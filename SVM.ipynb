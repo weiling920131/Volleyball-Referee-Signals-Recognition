{
 "cells": [
  {
   "cell_type": "code",
   "execution_count": 1,
   "metadata": {},
   "outputs": [],
   "source": [
    "import cv2\n",
    "import os\n",
    "import numpy as np\n",
    "from sklearn.svm import SVC\n",
    "from sklearn.metrics import accuracy_score, confusion_matrix\n",
    "import csv\n",
    "import matplotlib.pyplot as plt\n",
    "import itertools\n",
    "import random"
   ]
  },
  {
   "cell_type": "code",
   "execution_count": 2,
   "metadata": {},
   "outputs": [],
   "source": [
    "num_labels = 6\n",
    "# random.seed(0)"
   ]
  },
  {
   "cell_type": "code",
   "execution_count": 43,
   "metadata": {},
   "outputs": [],
   "source": [
    "def load_frames(vid_path):\n",
    "    frames = []\n",
    "    \n",
    "    imgs = os.listdir(vid_path)\n",
    "    for i in range(len(imgs)):\n",
    "        if i % 8 != 0:\n",
    "            continue\n",
    "        img_path = os.path.join(vid_path, imgs[i])\n",
    "        frame = cv2.imread(img_path)\n",
    "\n",
    "        frames.append(frame)\n",
    "\n",
    "    return frames\n",
    "\n",
    "\n",
    "def extract_optical_flow(frames):\n",
    "    features = []\n",
    "\n",
    "    # 初始化前一帧\n",
    "    prev_frame = cv2.cvtColor(frames[0], cv2.COLOR_BGR2GRAY)\n",
    "\n",
    "    for frame in frames[1:]:\n",
    "        # 將當前帧轉換為灰度圖\n",
    "        gray = cv2.cvtColor(frame, cv2.COLOR_BGR2GRAY)\n",
    "\n",
    "        # 計算光流\n",
    "        flow = cv2.calcOpticalFlowFarneback(prev_frame, gray, None, 0.5, 3, 15, 3, 5, 1.2, 0)\n",
    "\n",
    "        # 將光流的水平和垂直分量組合為特徵向量\n",
    "        flow_feature = flow.reshape(-1)\n",
    "        features.append(flow_feature)\n",
    "\n",
    "        # 更新前一帧\n",
    "        prev_frame = gray\n",
    "\n",
    "    return np.array(features)\n",
    "\n",
    "\n",
    "def preprocess(path, csv_path):\n",
    "    vids = [[] for _ in range(num_labels)]\n",
    "    with open(csv_path, 'r') as file:\n",
    "        rows = csv.reader(file)\n",
    "        for row in rows:\n",
    "            vids[int(row[2])].append(os.path.join(row[1], row[0]))\n",
    "            \n",
    "    features = []\n",
    "    labels = []\n",
    "\n",
    "    for l in range(num_labels):\n",
    "        # sampled_num = int(0.5 * len(vids[l]))\n",
    "        # sample_idx = [1] * sampled_num + [0] * (len(vids[l]) - sampled_num)\n",
    "        # random.shuffle(sample_idx)\n",
    "        # print(f\"label {l}: {len(vids[l])} -> {sampled_num}\")\n",
    "\n",
    "        for i in range(len(vids[l])):\n",
    "            # if sample_idx[i] == 0:\n",
    "            #     continue\n",
    "            vid_path = os.path.join(path, vids[l][i])\n",
    "            frames = load_frames(vid_path)\n",
    "            optical_flow_features = extract_optical_flow(frames)\n",
    "            # print(optical_flow_features.shape)\n",
    "            features.append(optical_flow_features)\n",
    "            labels.append(l)    \n",
    "\n",
    "    return np.array(features), np.array(labels)"
   ]
  },
  {
   "cell_type": "code",
   "execution_count": 44,
   "metadata": {},
   "outputs": [
    {
     "name": "stdout",
     "output_type": "stream",
     "text": [
      "(960, 3, 28800) (960,)\n",
      "(240, 3, 28800) (240,)\n"
     ]
    }
   ],
   "source": [
    "X_train, y_train = preprocess('./dataset_aug_ori', './train_ori_4.csv')\n",
    "print(X_train.shape, y_train.shape)\n",
    "X_test, y_test = preprocess('./dataset_aug_ori', './val_ori_4.csv')\n",
    "print(X_test.shape, y_test.shape)"
   ]
  },
  {
   "cell_type": "code",
   "execution_count": null,
   "metadata": {},
   "outputs": [
    {
     "data": {
      "text/plain": [
       "'\\n# 將三維特徵數組轉換為二維\\nX_train_flat = X_train.reshape((X_train.shape[0], -1))\\nX_test_flat = X_test.reshape((X_test.shape[0], -1))\\n\\nparam_grid = {\\'C\\': [0.1, 1, 10, 100], \\'kernel\\': [\\'linear\\', \\'rbf\\', \\'poly\\', \\'sigmoid\\']}\\n\\n# 创建 SVM 模型\\nsvm_model = SVC()\\n\\n# 使用 GridSearchCV 进行参数搜索\\ngrid_search = GridSearchCV(svm_model, param_grid, cv=5)\\ngrid_search.fit(X_train_flat, y_train)\\n\\n# 打印最佳参数和最佳分数\\nprint(\"Best Parameters:\", grid_search.best_params_)\\nprint(\"Best Score:\", grid_search.best_score_)\\n'"
      ]
     },
     "execution_count": 107,
     "metadata": {},
     "output_type": "execute_result"
    }
   ],
   "source": [
    "\"\"\"\n",
    "# 將三維特徵數組轉換為二維\n",
    "X_train_flat = X_train.reshape((X_train.shape[0], -1))\n",
    "X_test_flat = X_test.reshape((X_test.shape[0], -1))\n",
    "\n",
    "param_grid = {'C': [0.1, 1, 10, 100], 'kernel': ['linear', 'rbf', 'poly', 'sigmoid']}\n",
    "\n",
    "# 创建 SVM 模型\n",
    "svm_model = SVC()\n",
    "\n",
    "# 使用 GridSearchCV 进行参数搜索\n",
    "grid_search = GridSearchCV(svm_model, param_grid, cv=5)\n",
    "grid_search.fit(X_train_flat, y_train)\n",
    "\n",
    "# 打印最佳参数和最佳分数\n",
    "print(\"Best Parameters:\", grid_search.best_params_)\n",
    "print(\"Best Score:\", grid_search.best_score_)\n",
    "\"\"\""
   ]
  },
  {
   "cell_type": "code",
   "execution_count": 45,
   "metadata": {},
   "outputs": [
    {
     "name": "stdout",
     "output_type": "stream",
     "text": [
      "Accuracy: 0.7541666666666667\n"
     ]
    }
   ],
   "source": [
    "# 將三維特徵數組轉換為二維\n",
    "X_train_flat = X_train.reshape((X_train.shape[0], -1))\n",
    "X_test_flat = X_test.reshape((X_test.shape[0], -1))\n",
    "\n",
    "svm_model = SVC(kernel='linear', C=0.1)\n",
    "\n",
    "# 訓練SVM模型\n",
    "svm_model.fit(X_train_flat, y_train)\n",
    "\n",
    "# 在測試集上進行預測\n",
    "y_pred = svm_model.predict(X_test_flat)\n",
    "\n",
    "# 計算準確率\n",
    "accuracy = accuracy_score(y_test, y_pred)\n",
    "print(f'Accuracy: {accuracy}')"
   ]
  },
  {
   "cell_type": "code",
   "execution_count": 46,
   "metadata": {},
   "outputs": [
    {
     "name": "stdout",
     "output_type": "stream",
     "text": [
      "[[34  3  0  1  0  2]\n",
      " [ 3 35  0  2  0  0]\n",
      " [ 3  0 31  1  1  4]\n",
      " [ 3  3  0 29  2  3]\n",
      " [ 0  7  1  3 27  2]\n",
      " [ 9  3  1  0  2 25]]\n"
     ]
    }
   ],
   "source": [
    "cnf_matrix_sklearn = confusion_matrix(y_test, y_pred)\n",
    "print(cnf_matrix_sklearn)"
   ]
  },
  {
   "cell_type": "code",
   "execution_count": 13,
   "metadata": {},
   "outputs": [],
   "source": [
    "def plot_confusion_matrix(cm, classes,\n",
    "                          normalize=False,\n",
    "                          title='Confusion matrix',\n",
    "                          cmap=plt.cm.Blues):\n",
    "    \"\"\"\n",
    "    This function prints and plots the confusion matrix.\n",
    "    Normalization can be applied by setting `normalize=True`.\n",
    "    \"\"\"\n",
    "    if normalize:\n",
    "        cm = cm.astype('float') / cm.sum(axis=1)[:, np.newaxis]\n",
    "        print(\"Normalized confusion matrix\")\n",
    "    else:\n",
    "        print('Confusion matrix, without normalization')\n",
    "\n",
    "    print(cm)\n",
    "\n",
    "    plt.imshow(cm, interpolation='nearest', cmap=cmap)\n",
    "    plt.title(title)\n",
    "    plt.colorbar()\n",
    "    tick_marks = np.arange(len(classes))\n",
    "    plt.xticks(tick_marks, classes)\n",
    "    plt.yticks(tick_marks, classes)\n",
    "\n",
    "    fmt = '.2f' if normalize else 'd'\n",
    "    thresh = cm.max() / 2.\n",
    "    for i, j in itertools.product(range(cm.shape[0]), range(cm.shape[1])):\n",
    "        plt.text(j, i, format(cm[i, j], fmt),\n",
    "                 horizontalalignment=\"center\",\n",
    "                 color=\"white\" if cm[i, j] > thresh else \"black\")\n",
    "\n",
    "    plt.ylabel('True label')\n",
    "    plt.xlabel('Predicted label')\n",
    "    plt.tight_layout()"
   ]
  },
  {
   "cell_type": "code",
   "execution_count": 47,
   "metadata": {},
   "outputs": [
    {
     "name": "stdout",
     "output_type": "stream",
     "text": [
      "Confusion matrix, without normalization\n",
      "[[34  3  0  1  0  2]\n",
      " [ 3 35  0  2  0  0]\n",
      " [ 3  0 31  1  1  4]\n",
      " [ 3  3  0 29  2  3]\n",
      " [ 0  7  1  3 27  2]\n",
      " [ 9  3  1  0  2 25]]\n"
     ]
    },
    {
     "data": {
      "image/png": "[encoded data removed]",
      "text/plain": [
       "<Figure size 640x480 with 2 Axes>"
      ]
     },
     "metadata": {},
     "output_type": "display_data"
    }
   ],
   "source": [
    "plot_confusion_matrix(cnf_matrix_sklearn, [0, 1, 2, 3, 4, 5], normalize=False, title='Confusion Matrix', cmap=plt.cm.Purples)"
   ]
  },
  {
   "cell_type": "code",
   "execution_count": null,
   "metadata": {},
   "outputs": [
    {
     "name": "stdout",
     "output_type": "stream",
     "text": [
      "ori:  0.50762\n",
      "aug:  0.81332\n",
      "---\n",
      "ori:  0.50694\n",
      "aug:  0.89916\n"
     ]
    }
   ],
   "source": [
    "score1 = [0.5208, 0.5435, 0.5652, 0.4667, 0.4419]\n",
    "print(\"ori: \", np.mean(score1))\n",
    "\n",
    "score2 = [0.8292, 0.8208, 0.8416, 0.8125, 0.7625]\n",
    "print(\"aug: \", np.mean(score2))\n",
    "\n",
    "print(\"---\")\n",
    "\n",
    "score3 = [0.54, 0.5532, 0.5532, 0.4565, 0.4318]\n",
    "print(\"ori: \", np.mean(score3))\n",
    "\n",
    "score4 = [0.9416, 0.9042, 0.8875, 0.85, 0.9125]\n",
    "print(\"aug: \", np.mean(score4))"
   ]
  }
 ],
 "metadata": {
  "kernelspec": {
   "display_name": "ml",
   "language": "python",
   "name": "python3"
  },
  "language_info": {
   "codemirror_mode": {
    "name": "ipython",
    "version": 3
   },
   "file_extension": ".py",
   "mimetype": "text/x-python",
   "name": "python",
   "nbconvert_exporter": "python",
   "pygments_lexer": "ipython3",
   "version": "3.9.16"
  }
 },
 "nbformat": 4,
 "nbformat_minor": 2
}
