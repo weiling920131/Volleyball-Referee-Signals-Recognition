{
 "cells": [
  {
   "cell_type": "code",
   "execution_count": 1,
   "metadata": {},
   "outputs": [],
   "source": [
    "import cv2\n",
    "import os\n",
    "import numpy as np\n",
    "from sklearn.model_selection import GridSearchCV\n",
    "from sklearn.svm import SVC\n",
    "from sklearn.metrics import accuracy_score\n",
    "import csv"
   ]
  },
  {
   "cell_type": "code",
   "execution_count": 2,
   "metadata": {},
   "outputs": [],
   "source": [
    "def load_frames(vid_path):\n",
    "    frames = []\n",
    "    \n",
    "    imgs = os.listdir(vid_path)\n",
    "    for img in imgs:\n",
    "        img_path = os.path.join(vid_path, img)\n",
    "        frame = cv2.imread(img_path)\n",
    "        frame = cv2.resize(frame, (160, 90))\n",
    "\n",
    "        # cv2.imshow(\"frame\", frame)\n",
    "        # cv2.waitKey(33)\n",
    "\n",
    "        frames.append(frame)\n",
    "\n",
    "    return frames\n",
    "\n",
    "\n",
    "def extract_optical_flow(frames):\n",
    "    features = []\n",
    "\n",
    "    # 初始化前一帧\n",
    "    prev_frame = cv2.cvtColor(frames[0], cv2.COLOR_BGR2GRAY)\n",
    "\n",
    "    for frame in frames[1:]:\n",
    "        # 將當前帧轉換為灰度圖\n",
    "        gray = cv2.cvtColor(frame, cv2.COLOR_BGR2GRAY)\n",
    "\n",
    "        # 計算光流\n",
    "        flow = cv2.calcOpticalFlowFarneback(prev_frame, gray, None, 0.5, 3, 15, 3, 5, 1.2, 0)\n",
    "\n",
    "        # 將光流的水平和垂直分量組合為特徵向量\n",
    "        flow_feature = flow.reshape(-1)\n",
    "        features.append(flow_feature)\n",
    "\n",
    "        # 更新前一帧\n",
    "        prev_frame = gray\n",
    "\n",
    "    return np.array(features)\n",
    "\n",
    "\n",
    "def preprocess(path):\n",
    "    features = []\n",
    "    vids = os.listdir(path)\n",
    "    for vid in vids:\n",
    "        vid_path = os.path.join(path, vid)\n",
    "        frames = load_frames(vid_path)\n",
    "        optical_flow_features = extract_optical_flow(frames)\n",
    "        # print(optical_flow_features.shape)\n",
    "        features.append(optical_flow_features)\n",
    "\n",
    "    return np.array(features)\n",
    "\n",
    "\n",
    "def load_label(csv_path):\n",
    "    labels = []\n",
    "    with open(csv_path, 'r') as file:\n",
    "        rows = csv.reader(file)\n",
    "        for row in rows:\n",
    "            labels.append(row[2])\n",
    "\n",
    "    return np.array(labels)"
   ]
  },
  {
   "cell_type": "code",
   "execution_count": 3,
   "metadata": {},
   "outputs": [
    {
     "name": "stdout",
     "output_type": "stream",
     "text": [
      "(82, 29, 28800)\n",
      "(24, 29, 28800)\n",
      "(82,)\n",
      "(24,)\n"
     ]
    }
   ],
   "source": [
    "X_train = preprocess('./train')\n",
    "print(X_train.shape)\n",
    "X_test = preprocess('./val')\n",
    "print(X_test.shape)\n",
    "\n",
    "y_train = load_label('./train.csv')\n",
    "print(y_train.shape)\n",
    "y_test = load_label('./val.csv')\n",
    "print(y_test.shape)"
   ]
  },
  {
   "cell_type": "code",
   "execution_count": 4,
   "metadata": {},
   "outputs": [
    {
     "name": "stdout",
     "output_type": "stream",
     "text": [
      "Best Parameters: {'C': 0.1, 'kernel': 'linear'}\n",
      "Best Score: 0.46470588235294114\n"
     ]
    }
   ],
   "source": [
    "# 將三維特徵數組轉換為二維\n",
    "X_train_flat = X_train.reshape((X_train.shape[0], -1))\n",
    "X_test_flat = X_test.reshape((X_test.shape[0], -1))\n",
    "\n",
    "param_grid = {'C': [0.1, 1, 10, 100], 'kernel': ['linear', 'rbf', 'poly', 'sigmoid']}\n",
    "\n",
    "# 创建 SVM 模型\n",
    "svm_model = SVC()\n",
    "\n",
    "# 使用 GridSearchCV 进行参数搜索\n",
    "grid_search = GridSearchCV(svm_model, param_grid, cv=5)\n",
    "grid_search.fit(X_train_flat, y_train)\n",
    "\n",
    "# 打印最佳参数和最佳分数\n",
    "print(\"Best Parameters:\", grid_search.best_params_)\n",
    "print(\"Best Score:\", grid_search.best_score_)"
   ]
  },
  {
   "cell_type": "code",
   "execution_count": 6,
   "metadata": {},
   "outputs": [
    {
     "name": "stdout",
     "output_type": "stream",
     "text": [
      "Accuracy: 0.20833333333333334\n"
     ]
    }
   ],
   "source": [
    "# 將三維特徵數組轉換為二維\n",
    "X_train_flat = X_train.reshape((X_train.shape[0], -1))\n",
    "X_test_flat = X_test.reshape((X_test.shape[0], -1))\n",
    "\n",
    "svm_model = SVC(kernel='linear', C=0.1)\n",
    "\n",
    "# 訓練SVM模型\n",
    "svm_model.fit(X_train_flat, y_train)\n",
    "\n",
    "# 在測試集上進行預測\n",
    "y_pred = svm_model.predict(X_test_flat)\n",
    "\n",
    "# 計算準確率\n",
    "accuracy = accuracy_score(y_test, y_pred)\n",
    "print(f'Accuracy: {accuracy}')"
   ]
  }
 ],
 "metadata": {
  "kernelspec": {
   "display_name": "ml",
   "language": "python",
   "name": "python3"
  },
  "language_info": {
   "codemirror_mode": {
    "name": "ipython",
    "version": 3
   },
   "file_extension": ".py",
   "mimetype": "text/x-python",
   "name": "python",
   "nbconvert_exporter": "python",
   "pygments_lexer": "ipython3",
   "version": "3.8.18"
  }
 },
 "nbformat": 4,
 "nbformat_minor": 2
}
